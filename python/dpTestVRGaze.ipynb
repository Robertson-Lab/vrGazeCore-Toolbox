{
 "cells": [
  {
   "cell_type": "markdown",
   "id": "c894fa4b",
   "metadata": {},
   "source": [
    "# Import packages"
   ]
  },
  {
   "cell_type": "code",
   "execution_count": 1,
   "id": "e8a914b6",
   "metadata": {},
   "outputs": [],
   "source": [
    "%load_ext autoreload\n",
    "%autoreload 2\n",
    "\n",
    "from vrgaze.parser import get_args_parser, set_paths\n",
    "from vrgaze.vrgaze import vrGazeCore, vrGazeData\n",
    "\n",
    "import numpy as np\n",
    "\n",
    "import glob\n",
    "from matplotlib import pyplot as plt\n",
    "import cv2\n",
    "import numpy as np\n",
    "import os, sys\n",
    "\n",
    "import time"
   ]
  },
  {
   "cell_type": "markdown",
   "id": "5fe3d3e5",
   "metadata": {},
   "source": [
    "# Set arguments to vrGazeCore"
   ]
  },
  {
   "cell_type": "markdown",
   "id": "5d754f21",
   "metadata": {},
   "source": [
    "Set base directory, project directory, raw data directory, stimuli directory, & processing steps"
   ]
  },
  {
   "cell_type": "code",
   "execution_count": 2,
   "id": "48eda55a",
   "metadata": {},
   "outputs": [],
   "source": [
    "base_dir = '/Users/deepasriprasad/Documents/pyGazeCore/'\n",
    "\n",
    "args = [\n",
    "    f'--project_dir={base_dir}',\n",
    "    f'--raw_data_folder=rawData',\n",
    "    f'--stim_folder=stimuli/combined/',\n",
    "    f'--plot_fixations',\n",
    "    f'--plot_density_maps',\n",
    "    f'--heatmap_timesteps=1',\n",
    "]"
   ]
  },
  {
   "cell_type": "markdown",
   "id": "000e4e82",
   "metadata": {},
   "source": [
    "Load arguments into vrGazeCore"
   ]
  },
  {
   "cell_type": "code",
   "execution_count": 3,
   "id": "1a29152d",
   "metadata": {
    "scrolled": true
   },
   "outputs": [
    {
     "name": "stdout",
     "output_type": "stream",
     "text": [
      "Check that the following paths are correct:\n",
      "project_raw_data_dir = /Users/deepasriprasad/Documents/pyGazeCore/rawData\n",
      "project_stim_dir = /Users/deepasriprasad/Documents/pyGazeCore/stimuli/combined/\n"
     ]
    }
   ],
   "source": [
    "parser = get_args_parser()\n",
    "\n",
    "params = parser.parse_args(args)\n",
    "paths = set_paths(params)"
   ]
  },
  {
   "cell_type": "markdown",
   "id": "deacbced",
   "metadata": {},
   "source": [
    "Set and load subject data"
   ]
  },
  {
   "cell_type": "code",
   "execution_count": null,
   "id": "c126d03e",
   "metadata": {},
   "outputs": [],
   "source": [
    "# parsed_data[94].get_density_map"
   ]
  },
  {
   "cell_type": "code",
   "execution_count": 4,
   "id": "6d79cf47",
   "metadata": {},
   "outputs": [],
   "source": [
    "subject_fn = 'furrow381_V1.txt'\n",
    "subject = os.path.splitext(subject_fn)[0]"
   ]
  },
  {
   "cell_type": "code",
   "execution_count": 5,
   "id": "7752bd33",
   "metadata": {},
   "outputs": [
    {
     "name": "stdout",
     "output_type": "stream",
     "text": [
      "Averaging coordinates from both eyes!\n"
     ]
    }
   ],
   "source": [
    "vrGaze = vrGazeCore(params, paths)\n",
    "\n",
    "raw_data = vrGaze.loadRawData(subject_fn)\n",
    "raw_data = vrGaze.processRawData(raw_data)\n",
    "parsed_data = vrGaze.parseTrials(data=raw_data, subject=subject)"
   ]
  },
  {
   "cell_type": "markdown",
   "id": "0ea7485f",
   "metadata": {},
   "source": [
    "# Test vrgc on Single Subject"
   ]
  },
  {
   "cell_type": "code",
   "execution_count": null,
   "id": "06419877",
   "metadata": {},
   "outputs": [],
   "source": [
    "my_trial = parsed_data[0]\n",
    "print(my_trial.trial_name)\n",
    "\n",
    "# my_trial = vrGaze.runFindFixations(my_trial)"
   ]
  },
  {
   "cell_type": "code",
   "execution_count": null,
   "id": "d140afe5",
   "metadata": {
    "scrolled": true
   },
   "outputs": [],
   "source": [
    "import time\n",
    "print(f'Running {len(parsed_data)} trials')\n",
    "\n",
    "start_time = time.time()\n",
    "\n",
    "for i, trial in enumerate(parsed_data):\n",
    "    print(f\"Running {trial.trial_name} (Trial Number {i})\")  \n",
    "    \n",
    "    trial = vrGaze.runFindFixations(trial)\n",
    "    \n",
    "    trial = vrGaze.runHeatmapping(trial)\n",
    "    \n",
    "    print (time.time() - start_time)"
   ]
  },
  {
   "cell_type": "code",
   "execution_count": null,
   "id": "48c78f99",
   "metadata": {},
   "outputs": [],
   "source": [
    "my_trial = parsed_data[12]\n",
    "image_path = my_trial.get_image_path()\n",
    "\n",
    "vrGaze.plotFixations(my_trial.get_fixations(), image_path, fig_size=(12,6))"
   ]
  },
  {
   "cell_type": "code",
   "execution_count": null,
   "id": "6de83ced",
   "metadata": {},
   "outputs": [],
   "source": [
    "image_path = my_trial.get_image_path()\n",
    "\n",
    "vrGaze.params.heatmap_timesteps = 1\n",
    "\n",
    "split_timecourse = vrGaze.splitFixationTimesteps(my_trial.get_fixations())\n",
    "density_map = vrGaze.createDensityMap(split_timecourse[-1])\n",
    "vrGaze.plotFixationDensity(density_map, image_path, fig_size=(12,6))"
   ]
  },
  {
   "cell_type": "markdown",
   "id": "a1fbfab1",
   "metadata": {},
   "source": [
    "# Test loading group data"
   ]
  },
  {
   "cell_type": "code",
   "execution_count": 6,
   "id": "de9f75bb",
   "metadata": {
    "scrolled": true
   },
   "outputs": [
    {
     "name": "stdout",
     "output_type": "stream",
     "text": [
      "Found 61 files shared across 3 subjects\n"
     ]
    }
   ],
   "source": [
    "subjects = ['furrow012_V1','furrow380_V1', 'furrow381_V1']\n",
    "\n",
    "group_trials = vrGaze.loadGroupFixations(subjects)\n",
    "\n",
    "print (f'Found {len(group_trials)} files shared across {len(subjects)} subjects')\n",
    "\n",
    "vrGaze.params.cohort_name = \"testCohort\""
   ]
  },
  {
   "cell_type": "code",
   "execution_count": 7,
   "id": "9bfc88d6",
   "metadata": {},
   "outputs": [],
   "source": [
    "print(group_trials)"
   ]
  },
  {
   "cell_type": "code",
   "execution_count": null,
   "id": "47b69bd0",
   "metadata": {},
   "outputs": [],
   "source": [
    "for trials in group_trials:\n",
    "    [vrGaze.runHeatmapping(trial) for trial in trials]\n",
    "    group_data = vrGaze.runHeatmapping(trials)"
   ]
  },
  {
   "cell_type": "markdown",
   "id": "3c4a0e65",
   "metadata": {},
   "source": [
    "# Test of LR wrap around "
   ]
  },
  {
   "cell_type": "code",
   "execution_count": null,
   "id": "46b05b55",
   "metadata": {},
   "outputs": [],
   "source": [
    "import pandas as pd\n",
    "\n",
    "sample = np.array([\n",
    "    [15, 170, 0.5],\n",
    "    [345, 10, 0.5],\n",
    "    [180, 90, 0.5],\n",
    "])\n",
    "\n",
    "df_test = pd.DataFrame(sample, columns=['fix_yaw', 'fix_pitch', 'duration'])\n",
    "\n",
    "density_map = vrGaze.createDensityMap(df_test)\n",
    "plt.imshow(density_map)"
   ]
  },
  {
   "cell_type": "markdown",
   "id": "4d19eaf5",
   "metadata": {},
   "source": [
    "# Test of variable width filter"
   ]
  },
  {
   "cell_type": "code",
   "execution_count": null,
   "id": "9d528951",
   "metadata": {},
   "outputs": [],
   "source": [
    "sample = np.array([\n",
    "    [180, 170, 0.5],\n",
    "    [180, 130, 0.5],\n",
    "    [180, 90, 0.5],\n",
    "    [180, 50, 0.5],\n",
    "    [180, 10, 0.5],\n",
    "])\n",
    "\n",
    "df_test = pd.DataFrame(sample, columns=['fix_yaw', 'fix_pitch', 'duration'])\n",
    "\n",
    "density_map = vrGaze.createDensityMap(df_test)\n",
    "plt.imshow(density_map)"
   ]
  },
  {
   "cell_type": "markdown",
   "id": "8da8fb68",
   "metadata": {},
   "source": [
    "# Correlate data between python and matlab"
   ]
  },
  {
   "cell_type": "code",
   "execution_count": null,
   "id": "7241bac5",
   "metadata": {},
   "outputs": [],
   "source": [
    "subjects = ['furrow012_V1']\n",
    "\n",
    "subject_trials = vrGaze.loadGroupFixations(subjects)\n",
    "\n",
    "# print (f'Found {len(data)} files shared across {len(subjects)} subjects')"
   ]
  },
  {
   "cell_type": "code",
   "execution_count": null,
   "id": "fa433c3b",
   "metadata": {
    "scrolled": true
   },
   "outputs": [],
   "source": [
    "from scipy.io import loadmat\n",
    "\n",
    "matlab_base_dir = '~Documents/matGazeCore/eyeTrackResults/heatMaps/mat/'\n",
    "\n",
    "corrs = []\n",
    "\n",
    "for i, trial in enumerate(subject_trials):\n",
    "    print (f'Trial {i+1}/{len(subject_trials)}')\n",
    "    current_trial = trial[0]\n",
    "    matlab_dir = os.path.join(matlab_base_dir, current_trial.subject)\n",
    "    \n",
    "    matlab_path = glob.glob(os.path.join(matlab_dir, f'*{current_trial.trial_name}*'))[0]\n",
    "    \n",
    "    mat = loadmat(matlab_path)\n",
    "    matlab_density_map = mat['timestepHeatmaps'][0][0]\n",
    "    \n",
    "    density_map = vrGaze.createDensityMap(current_trial.get_fixations())\n",
    "    corr = np.corrcoef(matlab_density_map.flatten(), density_map.flatten())[0][1]\n",
    "    corrs.append(corr)"
   ]
  },
  {
   "cell_type": "code",
   "execution_count": null,
   "id": "badc40eb",
   "metadata": {},
   "outputs": [],
   "source": [
    "print(corrs)"
   ]
  },
  {
   "cell_type": "code",
   "execution_count": null,
   "id": "2e65113c",
   "metadata": {},
   "outputs": [],
   "source": [
    "import seaborn as sns\n",
    "sns.boxplot(corrs, palette='BuPu')\n",
    "sns.despine()\n",
    "plt.title(f'Correlation between matlab and python (N={sum(~np.isnan(corrs))} images)')"
   ]
  },
  {
   "cell_type": "code",
   "execution_count": null,
   "id": "9fa94d6c",
   "metadata": {
    "scrolled": false
   },
   "outputs": [],
   "source": [
    "\n",
    "# trial = parsed_data[trial_number].get_raw_data()\n",
    "\n",
    "# first run the confidence filter\n",
    "confidence_filter, percent_removed = vrGaze.confidenceFilter(trial)\n",
    "\n",
    "# trial.set_confidence_filter(confidence_filter)\n",
    "\n",
    "# ADD CONFIDENCE FLAG HERE\n",
    "\n",
    "# next eccentricity filter\n",
    "# RUN ECCENTRICITY FLAG HERE\n",
    "\n",
    "eccentricity_filter, percent_removed = vrGaze.eccentricityFilter(trial)\n",
    "\n",
    "# trial.set_eccentricity_filter(eccentricity_filter)\n",
    "\n",
    "# \n",
    "\n",
    "# Maps eye coordinates on screen to FOV, roll to radians\n",
    "preproc = vrGaze.preprocessTrialData(trial)\n",
    "\n",
    "# Connects head and eye position to create gaze on sphere\n",
    "# ONLY NECESSARY IF EYETRACKING\n",
    "# rectified = vrGaze.rectifyGaze(preproc)\n",
    "\n",
    "sys.exit(0)\n",
    "\n",
    "trial_filtered = trial.loc[~np.logical_or(confidence_filter, eccentricity_filter)]\n",
    "trial_filtered = trial_filtered.loc[1:]\n",
    "\n",
    "\n",
    "trial_fixations = vrGaze.calculateFixations(trial_filtered)\n",
    "\n",
    "\n",
    "trial_name = sorted(trial['trial'].unique())[0]\n",
    "image_path = glob.glob(os.path.join(vrGaze.paths['project_stim_dir'], f'{trial_name}*'))[0]\n",
    "\n",
    "# plt.colorbar(orientation=\"horizontal\")\n",
    "# TODO: Wrap points Equirect \n",
    "## INSERT WRAP POINTS\n",
    "\n",
    "# TODO: Bilateral filtering\n",
    "# INSERT BILATERAL FILTERING\n",
    "\n",
    "# TODO: Interpolation\n",
    "## INSERT INTERPOLATION"
   ]
  },
  {
   "cell_type": "code",
   "execution_count": null,
   "id": "e417b784",
   "metadata": {
    "scrolled": false
   },
   "outputs": [],
   "source": [
    "vrGaze.plotFixations(trial_fixations, image_path)"
   ]
  },
  {
   "cell_type": "code",
   "execution_count": null,
   "id": "b2422d81",
   "metadata": {},
   "outputs": [],
   "source": [
    "density_map = vrGaze.createDensityMap(trial_fixations)\n",
    "vrGaze.plotFixationDensity(density_map, image_path)"
   ]
  },
  {
   "cell_type": "code",
   "execution_count": null,
   "id": "02077bd0",
   "metadata": {},
   "outputs": [],
   "source": [
    "# load in pkl file\n",
    "import pickle\n",
    "\n",
    "f = open('/Users/deepasriprasad/Documents/pyGazeCore/eyeTrackResults/heatMaps/pkl/furrow012_V1/furrow012_V1_3P_4230958772_bdfb3f3af4_o_00051.pkl', 'rb')   # 'rb' for reading binary file\n",
    "mydict = pickle.load(f)     \n",
    "f.close()                       \n",
    "\n",
    "print(mydict)"
   ]
  },
  {
   "cell_type": "markdown",
   "id": "50ecd08e",
   "metadata": {},
   "source": [
    "# Test Sanity Targets"
   ]
  },
  {
   "cell_type": "code",
   "execution_count": 2,
   "id": "b7bac272",
   "metadata": {},
   "outputs": [
    {
     "name": "stdout",
     "output_type": "stream",
     "text": [
      "Check that the following paths are correct:\n",
      "project_raw_data_dir = /Users/deepasriprasad/Documents/pyGazeCore/rawData\n",
      "project_stim_dir = /Users/deepasriprasad/Documents/pyGazeCore/stimuli/combined/\n"
     ]
    }
   ],
   "source": [
    "# set base params & paths\n",
    "\n",
    "base_dir = '/Users/deepasriprasad/Documents/pyGazeCore/'\n",
    "exclude_scenes = ['practice1','practice2']\n",
    "pretrial_list = ['fixate', 'sanityTarget']\n",
    "\n",
    "args = [\n",
    "    f'--project_dir={base_dir}',\n",
    "    f'--raw_data_folder=rawData',\n",
    "    f'--stim_folder=stimuli/combined/',\n",
    "    f'--plot_fixations',\n",
    "    f'--plot_density_maps',\n",
    "    f'--heatmap_timesteps=1',\n",
    "    f'--make_density_map_gif'\n",
    "]\n",
    "\n",
    "parser = get_args_parser()\n",
    "\n",
    "params = parser.parse_args(args)\n",
    "\n",
    "for item in pretrial_list:\n",
    "    params.pretrial_list.append(item)\n",
    "    \n",
    "for scene in exclude_scenes:\n",
    "    params.exclude_scenes.append(scene)\n",
    "    \n",
    "paths = set_paths(params)\n",
    "\n",
    "vrGaze = vrGazeCore(params, paths)"
   ]
  },
  {
   "cell_type": "code",
   "execution_count": 3,
   "id": "77af2651",
   "metadata": {},
   "outputs": [
    {
     "name": "stdout",
     "output_type": "stream",
     "text": [
      "Averaging coordinates from both eyes!\n"
     ]
    }
   ],
   "source": [
    "# list heatmap timesteps\n",
    "\n",
    "# list subject filenames\n",
    "subject_fn = 'furrow012_V1.txt'\n",
    "\n",
    "\n",
    "subject = os.path.splitext(subject_fn)[0]\n",
    "\n",
    "raw_data = vrGaze.loadRawData(subject_fn)\n",
    "raw_data = vrGaze.processRawData(raw_data)\n",
    "parsed_data = vrGaze.parseTrials(data=raw_data, subject=subject)\n",
    "parsed_data_key = vrGaze.parsedDataKey(parsed_data)"
   ]
  },
  {
   "cell_type": "code",
   "execution_count": 4,
   "id": "cfc711db",
   "metadata": {},
   "outputs": [
    {
     "name": "stdout",
     "output_type": "stream",
     "text": [
      "_sanityTarget360_0000\n",
      "/Users/deepasriprasad/Documents/pyGazeCore/stimuli/combined/_sanityTarget360.png\n"
     ]
    }
   ],
   "source": [
    "trial = parsed_data[15]\n",
    "print(trial.trial_name)\n",
    "image_path = '/Users/deepasriprasad/Documents/pyGazeCore/stimuli/combined/_sanityTarget360.png'\n",
    "trial.image_path = image_path\n",
    "print(trial.image_path)"
   ]
  },
  {
   "cell_type": "code",
   "execution_count": 5,
   "id": "3f2dcc8b",
   "metadata": {},
   "outputs": [
    {
     "name": "stdout",
     "output_type": "stream",
     "text": [
      "CONFIDENCE FILTER - percent removed: 9.46%\n",
      "ECCENTRICITY FILTER - percent removed: 0.00%\n",
      "FIXATION CONCATENATION: concatenated 0 out of 10 fixations\n",
      "FIXATION TRIM FILTER - removed 1 out of 10 fixations\n",
      "FIXATION DURATION FILTER - removed 2 out of 9 fixations\n",
      "\n",
      "FIXATION STATISTICS\n",
      "Num fixations: 7\n",
      "Avg fixation duration: 1.211 seconds\n",
      "STD fixation duration: 1.671 seconds\n",
      "Min fixation duration: 0.132 seconds\n",
      "Max fixation duration: 4.922 seconds\n"
     ]
    },
    {
     "data": {
      "text/html": [
       "<div>\n",
       "<style scoped>\n",
       "    .dataframe tbody tr th:only-of-type {\n",
       "        vertical-align: middle;\n",
       "    }\n",
       "\n",
       "    .dataframe tbody tr th {\n",
       "        vertical-align: top;\n",
       "    }\n",
       "\n",
       "    .dataframe thead th {\n",
       "        text-align: right;\n",
       "    }\n",
       "</style>\n",
       "<table border=\"1\" class=\"dataframe\">\n",
       "  <thead>\n",
       "    <tr style=\"text-align: right;\">\n",
       "      <th></th>\n",
       "      <th>fix_yaw</th>\n",
       "      <th>fix_pitch</th>\n",
       "      <th>start_time</th>\n",
       "      <th>end_time</th>\n",
       "      <th>spread</th>\n",
       "      <th>duration</th>\n",
       "      <th>norm_start_time</th>\n",
       "      <th>norm_end_time</th>\n",
       "    </tr>\n",
       "  </thead>\n",
       "  <tbody>\n",
       "    <tr>\n",
       "      <th>0</th>\n",
       "      <td>180.074939</td>\n",
       "      <td>89.665916</td>\n",
       "      <td>630.3656</td>\n",
       "      <td>631.0444</td>\n",
       "      <td>0.761719</td>\n",
       "      <td>0.6788</td>\n",
       "      <td>0.3996</td>\n",
       "      <td>1.0784</td>\n",
       "    </tr>\n",
       "    <tr>\n",
       "      <th>1</th>\n",
       "      <td>167.336562</td>\n",
       "      <td>85.594649</td>\n",
       "      <td>631.9080</td>\n",
       "      <td>633.0159</td>\n",
       "      <td>1.473411</td>\n",
       "      <td>1.1079</td>\n",
       "      <td>1.9420</td>\n",
       "      <td>3.0499</td>\n",
       "    </tr>\n",
       "    <tr>\n",
       "      <th>2</th>\n",
       "      <td>185.637951</td>\n",
       "      <td>88.356592</td>\n",
       "      <td>633.1505</td>\n",
       "      <td>633.2828</td>\n",
       "      <td>4.221000</td>\n",
       "      <td>0.1323</td>\n",
       "      <td>3.1845</td>\n",
       "      <td>3.3168</td>\n",
       "    </tr>\n",
       "    <tr>\n",
       "      <th>3</th>\n",
       "      <td>167.546308</td>\n",
       "      <td>84.522229</td>\n",
       "      <td>633.4297</td>\n",
       "      <td>634.3375</td>\n",
       "      <td>0.789800</td>\n",
       "      <td>0.9078</td>\n",
       "      <td>3.4637</td>\n",
       "      <td>4.3715</td>\n",
       "    </tr>\n",
       "    <tr>\n",
       "      <th>4</th>\n",
       "      <td>164.245088</td>\n",
       "      <td>87.456494</td>\n",
       "      <td>634.8578</td>\n",
       "      <td>635.2169</td>\n",
       "      <td>3.816681</td>\n",
       "      <td>0.3591</td>\n",
       "      <td>4.8918</td>\n",
       "      <td>5.2509</td>\n",
       "    </tr>\n",
       "    <tr>\n",
       "      <th>5</th>\n",
       "      <td>167.174503</td>\n",
       "      <td>85.236445</td>\n",
       "      <td>635.5532</td>\n",
       "      <td>635.9242</td>\n",
       "      <td>1.866194</td>\n",
       "      <td>0.3710</td>\n",
       "      <td>5.5872</td>\n",
       "      <td>5.9582</td>\n",
       "    </tr>\n",
       "    <tr>\n",
       "      <th>6</th>\n",
       "      <td>180.359716</td>\n",
       "      <td>88.323314</td>\n",
       "      <td>636.1104</td>\n",
       "      <td>641.0323</td>\n",
       "      <td>0.224014</td>\n",
       "      <td>4.9219</td>\n",
       "      <td>6.1444</td>\n",
       "      <td>11.0663</td>\n",
       "    </tr>\n",
       "  </tbody>\n",
       "</table>\n",
       "</div>"
      ],
      "text/plain": [
       "      fix_yaw  fix_pitch  start_time  end_time    spread  duration  \\\n",
       "0  180.074939  89.665916    630.3656  631.0444  0.761719    0.6788   \n",
       "1  167.336562  85.594649    631.9080  633.0159  1.473411    1.1079   \n",
       "2  185.637951  88.356592    633.1505  633.2828  4.221000    0.1323   \n",
       "3  167.546308  84.522229    633.4297  634.3375  0.789800    0.9078   \n",
       "4  164.245088  87.456494    634.8578  635.2169  3.816681    0.3591   \n",
       "5  167.174503  85.236445    635.5532  635.9242  1.866194    0.3710   \n",
       "6  180.359716  88.323314    636.1104  641.0323  0.224014    4.9219   \n",
       "\n",
       "   norm_start_time  norm_end_time  \n",
       "0           0.3996         1.0784  \n",
       "1           1.9420         3.0499  \n",
       "2           3.1845         3.3168  \n",
       "3           3.4637         4.3715  \n",
       "4           4.8918         5.2509  \n",
       "5           5.5872         5.9582  \n",
       "6           6.1444        11.0663  "
      ]
     },
     "execution_count": 5,
     "metadata": {},
     "output_type": "execute_result"
    }
   ],
   "source": [
    "trial = vrGaze.runFindFixations(trial)\n",
    "trial.get_fixations()"
   ]
  },
  {
   "cell_type": "markdown",
   "id": "16e5a3d1",
   "metadata": {},
   "source": [
    "# Testing Time Segmenting & GIF Making"
   ]
  },
  {
   "cell_type": "code",
   "execution_count": null,
   "id": "6854693f",
   "metadata": {},
   "outputs": [],
   "source": [
    "# make time segmented \n",
    "base_dir = '/Users/deepasriprasad/Documents/pyGazeCore/'\n",
    "exclude_scenes = ['practice1','practice2']\n",
    "pretrial_list = ['fixate', 'sanityTarget']\n",
    "\n",
    "args = [\n",
    "    f'--project_dir={base_dir}',\n",
    "    f'--raw_data_folder=rawData',\n",
    "    f'--stim_folder=stimuli/combined/',\n",
    "    f'--plot_fixations',\n",
    "    f'--plot_density_maps',\n",
    "    f'--heatmap_timesteps=1',\n",
    "    f'--make_density_map_gif'\n",
    "]\n",
    "\n",
    "parser = get_args_parser()\n",
    "\n",
    "params = parser.parse_args(args)\n",
    "\n",
    "for item in pretrial_list:\n",
    "    params.pretrial_list.append(item)\n",
    "    \n",
    "for scene in exclude_scenes:\n",
    "    params.exclude_scenes.append(scene)\n",
    "    \n",
    "paths = set_paths(params)\n",
    "\n",
    "subject_fn = 'furrow012_V1.txt'\n",
    "subject = os.path.splitext(subject_fn)[0]\n",
    "\n"
   ]
  },
  {
   "cell_type": "code",
   "execution_count": null,
   "id": "d240cc54",
   "metadata": {},
   "outputs": [],
   "source": [
    "vrGaze = vrGazeCore(params, paths)\n",
    "\n",
    "raw_data = vrGaze.loadRawData(subject_fn)\n",
    "raw_data = vrGaze.processRawData(raw_data)\n",
    "parsed_data = vrGaze.parseTrials(data=raw_data, subject=subject)\n",
    "\n"
   ]
  },
  {
   "cell_type": "code",
   "execution_count": null,
   "id": "90f6b2e7",
   "metadata": {},
   "outputs": [],
   "source": [
    "import time\n",
    "print(f'Running {len(parsed_data)} trials')\n",
    "\n",
    "start_time = time.time()\n",
    "\n",
    "for i, trial in enumerate(parsed_data):\n",
    "    # if manually excluded, skip trial\n",
    "    if any([scene in trial.trial_name for scene in vrGaze.params.exclude_scenes]):\n",
    "            print (f\"Manually excluded {trial.trial_name} (Trial Number {i}). Skipping!\")\n",
    "            continue\n",
    "    \n",
    "    print(f\"Running {trial.trial_name} (Trial Index {i})\")  \n",
    "     \n",
    "    trial = vrGaze.runFindFixations(trial)\n",
    "    \n",
    "    trial = vrGaze.runHeatmapping(trial)\n",
    "    \n",
    "    print (time.time() - start_time)\n"
   ]
  },
  {
   "cell_type": "code",
   "execution_count": null,
   "id": "0a710b1a",
   "metadata": {},
   "outputs": [],
   "source": [
    "print(parsed_data[4].trial_number)\n",
    "print(parsed_data[4].trial_name)\n",
    "\n",
    "test_trial = parsed_data[4]\n",
    "test_trial.get_fixations()\n",
    "vrGaze.params.heatmap_timesteps = 32\n",
    "test_trial = vrGaze.runHeatmapping(test_trial)"
   ]
  },
  {
   "cell_type": "code",
   "execution_count": null,
   "id": "f76a92da",
   "metadata": {},
   "outputs": [],
   "source": [
    "test_trial = vrGaze.runFindFixations(test_trial)\n",
    "test_trial = vrGaze.runHeatmapping(test_trial)"
   ]
  },
  {
   "cell_type": "code",
   "execution_count": null,
   "id": "7468e141",
   "metadata": {},
   "outputs": [],
   "source": [
    "df_fixations = test_trial.get_fixations()\n",
    "df_timesteps = vrGaze.splitFixationTimesteps(df_fixations)\n",
    "if df_timesteps is None or not any(list(map(np.size, df_timesteps))):\n",
    "    print('whoops, something did not work!')"
   ]
  },
  {
   "cell_type": "code",
   "execution_count": null,
   "id": "a9e127e1",
   "metadata": {},
   "outputs": [],
   "source": [
    "print(len(df_timesteps))\n",
    "print(df_timesteps[5])"
   ]
  },
  {
   "cell_type": "code",
   "execution_count": null,
   "id": "88dd6667",
   "metadata": {},
   "outputs": [],
   "source": [
    "if np.any(df_timesteps[2]) == False:\n",
    "    print('empty!')"
   ]
  },
  {
   "cell_type": "code",
   "execution_count": null,
   "id": "23d74b6a",
   "metadata": {},
   "outputs": [],
   "source": [
    "test_trial = vrGaze.runHeatmapping(test_trial)     "
   ]
  },
  {
   "cell_type": "code",
   "execution_count": null,
   "id": "051ff3f2",
   "metadata": {},
   "outputs": [],
   "source": [
    "# function that data frame of trial names, trial number, and idx in parsed_data\n",
    "import pandas as pd\n",
    "\n",
    "def parsedDataKey(parsed_data):\n",
    "    parsed_data_key = pd.DataFrame({\n",
    "        'parsed_data_idx': [i for i in range(len(parsed_data))],\n",
    "        'trial_name': [trial.trial_name for trial in parsed_data],\n",
    "        'trial_number': [trial.trial_number for trial in parsed_data]\n",
    "    })\n",
    "    \n",
    "    return parsed_data_key"
   ]
  },
  {
   "cell_type": "code",
   "execution_count": null,
   "id": "de753565",
   "metadata": {},
   "outputs": [],
   "source": [
    "parsed_data_key = parsedDataKey(parsed_data)\n",
    "print(parsed_data_key)"
   ]
  },
  {
   "cell_type": "markdown",
   "id": "e703f577",
   "metadata": {},
   "source": [
    "# Full Runthrough let's go!!\n",
    "1. Loop through subjects\n",
    "2. Multiple time-steps\n",
    "3. group heatmapping & gif making"
   ]
  },
  {
   "cell_type": "code",
   "execution_count": null,
   "id": "7bc655fd",
   "metadata": {},
   "outputs": [],
   "source": [
    "# set base params & paths\n",
    "\n",
    "base_dir = '/Users/deepasriprasad/Documents/pyGazeCore/'\n",
    "exclude_scenes = ['practice1','practice2']\n",
    "pretrial_list = ['fixate', 'sanityTarget']\n",
    "\n",
    "args = [\n",
    "    f'--project_dir={base_dir}',\n",
    "    f'--raw_data_folder=rawData',\n",
    "    f'--stim_folder=stimuli/combined/',\n",
    "    f'--plot_fixations',\n",
    "    f'--plot_density_maps',\n",
    "    f'--heatmap_timesteps=1',\n",
    "    f'--make_density_map_gif'\n",
    "]\n",
    "\n",
    "parser = get_args_parser()\n",
    "\n",
    "params = parser.parse_args(args)\n",
    "\n",
    "for item in pretrial_list:\n",
    "    params.pretrial_list.append(item)\n",
    "    \n",
    "for scene in exclude_scenes:\n",
    "    params.exclude_scenes.append(scene)\n",
    "    \n",
    "paths = set_paths(params)\n",
    "\n",
    "vrGaze = vrGazeCore(params, paths)"
   ]
  },
  {
   "cell_type": "code",
   "execution_count": null,
   "id": "4103e8c3",
   "metadata": {},
   "outputs": [],
   "source": [
    "# list heatmap timesteps\n",
    "\n",
    "# list subject filenames\n",
    "subject_fn_list = ['furrow380_V1.txt', 'furrow381_V1.txt']\n",
    "\n",
    "# loop through individual subjects\n",
    "for subject_fn in subject_fn_list:\n",
    "    \n",
    "    subject = os.path.splitext(subject_fn)[0]\n",
    "    \n",
    "    print(f'Running {subject}')\n",
    "    \n",
    "    raw_data = vrGaze.loadRawData(subject_fn)\n",
    "    raw_data = vrGaze.processRawData(raw_data)\n",
    "    parsed_data = vrGaze.parseTrials(data=raw_data, subject=subject)\n",
    "    parsed_data_key = vrGaze.parsedDataKey(parsed_data)\n",
    "    \n",
    "    print(f'Running {len(parsed_data)} trials')\n",
    "    \n",
    "    start_time = time.time()\n",
    "    \n",
    "    for i, trial in enumerate(parsed_data):\n",
    "        # if manually excluded, skip trial\n",
    "        if any([scene in trial.trial_name for scene in vrGaze.params.exclude_scenes]):\n",
    "            print (f\"Manually excluded {trial.trial_name} (Trial Number {i}). Skipping!\")\n",
    "            continue\n",
    "        \n",
    "        print(f\"Running {trial.trial_name} (Trial Index {i})\")  \n",
    "        \n",
    "        trial = vrGaze.runFindFixations(trial)\n",
    "        trial = vrGaze.runHeatmapping(trial)\n",
    "        \n",
    "        print (time.time() - start_time)"
   ]
  },
  {
   "cell_type": "code",
   "execution_count": null,
   "id": "02afd8a8",
   "metadata": {},
   "outputs": [],
   "source": [
    "# group analysis\n",
    "subject_fn_list = ['furrow012_V1.txt','furrow380_V1.txt', 'furrow381_V1.txt']\n",
    "\n",
    "subjects = [os.path.splitext(subject)[0] for subject in subject_fn_list]\n",
    "print(subjects)\n",
    "group_trials = vrGaze.loadGroupFixations(subjects)\n",
    "\n",
    "print (f'Found {len(group_trials)} files shared across {len(subjects)} subjects')\n",
    "\n",
    "vrGaze.params.cohort_name = \"testCohort\"\n",
    "vrGaze.params.heatmap_timesteps = 4\n",
    "\n",
    "\n"
   ]
  },
  {
   "cell_type": "code",
   "execution_count": null,
   "id": "f583c643",
   "metadata": {},
   "outputs": [],
   "source": [
    "for trials in group_trials:\n",
    "    [vrGaze.runHeatmapping(trial) for trial in trials]\n",
    "    group_data = vrGaze.runHeatmapping(trials)\n"
   ]
  },
  {
   "cell_type": "markdown",
   "id": "b7314b5f",
   "metadata": {},
   "source": [
    "# Meta"
   ]
  },
  {
   "cell_type": "markdown",
   "id": "4bcaf7b4",
   "metadata": {},
   "source": [
    "## TODO:\n",
    "- loading in data as parsed_data ?\n",
    "- higher time segments missing fixations??????\n",
    "- get files from directory name\n",
    "- matlab gif making\n",
    "- delete unused code (commented out)\n",
    "- convert to csv/make sure can read all data output equivalent to mat (don't know if need to do this)\n",
    "- save something to logs"
   ]
  },
  {
   "cell_type": "markdown",
   "id": "affc3c69",
   "metadata": {},
   "source": [
    "## Questions for group\n",
    "directory file labeling (time segment folders) and structure\n",
    "sanityTarget360 - uniform name in field?"
   ]
  }
 ],
 "metadata": {
  "kernelspec": {
   "display_name": "Python 3.11.3 64-bit",
   "language": "python",
   "name": "python3"
  },
  "language_info": {
   "codemirror_mode": {
    "name": "ipython",
    "version": 3
   },
   "file_extension": ".py",
   "mimetype": "text/x-python",
   "name": "python",
   "nbconvert_exporter": "python",
   "pygments_lexer": "ipython3",
   "version": "3.11.3"
  },
  "vscode": {
   "interpreter": {
    "hash": "b0fa6594d8f4cbf19f97940f81e996739fb7646882a419484c72d19e05852a7e"
   }
  }
 },
 "nbformat": 4,
 "nbformat_minor": 5
}
