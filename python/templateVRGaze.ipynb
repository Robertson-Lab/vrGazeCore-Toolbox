{
 "cells": [
  {
   "cell_type": "markdown",
   "metadata": {},
   "source": [
    "# Template Notebook for vrGazeCore-py\n",
    "This notebook will layout how to run vrGazeCore in a Jupyter notebook. A brief overview:"
   ]
  },
  {
   "cell_type": "code",
   "execution_count": null,
   "metadata": {},
   "outputs": [],
   "source": [
    "# load conda environment TODO: figure out how to do this in notebook"
   ]
  },
  {
   "cell_type": "code",
   "execution_count": null,
   "metadata": {},
   "outputs": [],
   "source": [
    "# import necessary packages\n",
    "%load_ext autoreload  # allows for autoreloading of scripts if made changes to scripts\n",
    "%autoreload 2\n",
    "\n",
    "from vrgaze.parser import get_args_parser, set_paths\n",
    "from vrgaze.vrgaze import vrGazeCore, vrGazeData\n",
    "\n",
    "import numpy as np\n",
    "\n",
    "import glob\n",
    "from matplotlib import pyplot as plt\n",
    "import cv2\n",
    "import numpy as np\n",
    "import os, sys\n",
    "\n",
    "import time"
   ]
  },
  {
   "cell_type": "code",
   "execution_count": null,
   "metadata": {},
   "outputs": [],
   "source": [
    "# set main params & paths\n",
    "\n",
    "base_dir = '/Users/deepasriprasad/Documents/pyGazeCore/'\n",
    "exclude_scenes = ['practice1','practice2']\n",
    "pretrial_list = ['fixate', 'sanityTarget']\n",
    "\n",
    "args = [\n",
    "    f'--project_dir={base_dir}',\n",
    "    f'--raw_data_folder=rawData',\n",
    "    f'--stim_folder=stimuli/combined/',\n",
    "    f'--plot_fixations',\n",
    "    f'--plot_density_maps',\n",
    "    f'--heatmap_timesteps=1',\n",
    "    f'--make_density_map_gif'\n",
    "]\n",
    "\n",
    "parser = get_args_parser()\n",
    "\n",
    "params = parser.parse_args(args)\n",
    "\n",
    "for item in pretrial_list:\n",
    "    params.pretrial_list.append(item)\n",
    "    \n",
    "for scene in exclude_scenes:\n",
    "    params.exclude_scenes.append(scene)\n",
    "    \n",
    "paths = set_paths(params)\n",
    "\n",
    "vrGaze = vrGazeCore(params, paths)"
   ]
  },
  {
   "cell_type": "markdown",
   "metadata": {},
   "source": [
    "# Batch Processing Subjects"
   ]
  },
  {
   "cell_type": "code",
   "execution_count": null,
   "metadata": {},
   "outputs": [],
   "source": [
    "# list heatmap timesteps\n",
    "\n",
    "# list subject filenames\n",
    "subject_fn_list = ['furrow380_V1.txt', 'furrow381_V1.txt']\n",
    "\n"
   ]
  },
  {
   "cell_type": "code",
   "execution_count": null,
   "metadata": {},
   "outputs": [],
   "source": [
    "# loop through individual subjects\n",
    "for subject_fn in subject_fn_list:\n",
    "    \n",
    "    subject = os.path.splitext(subject_fn)[0]\n",
    "    \n",
    "    print(f'Running {subject}')\n",
    "    \n",
    "    raw_data = vrGaze.loadRawData(subject_fn)\n",
    "    raw_data = vrGaze.processRawData(raw_data)\n",
    "    parsed_data = vrGaze.parseTrials(data=raw_data, subject=subject)\n",
    "    parsed_data_key = vrGaze.parsedDataKey(parsed_data)\n",
    "    \n",
    "    print(f'Running {len(parsed_data)} trials')\n",
    "    \n",
    "    start_time = time.time()\n",
    "    \n",
    "    for i, trial in enumerate(parsed_data):\n",
    "        # if manually excluded, skip trial\n",
    "        if any([scene in trial.trial_name for scene in vrGaze.params.exclude_scenes]):\n",
    "            print (f\"Manually excluded {trial.trial_name} (Trial Number {i}). Skipping!\")\n",
    "            continue\n",
    "        \n",
    "        print(f\"Running {trial.trial_name} (Trial Index {i})\")  \n",
    "        \n",
    "        trial = vrGaze.runFindFixations(trial)\n",
    "        trial = vrGaze.runHeatmapping(trial)\n",
    "        \n",
    "        print (time.time() - start_time)"
   ]
  }
 ],
 "metadata": {
  "kernelspec": {
   "display_name": "Python 3.11.3 64-bit",
   "language": "python",
   "name": "python3"
  },
  "language_info": {
   "name": "python",
   "version": "3.11.3"
  },
  "orig_nbformat": 4,
  "vscode": {
   "interpreter": {
    "hash": "b0fa6594d8f4cbf19f97940f81e996739fb7646882a419484c72d19e05852a7e"
   }
  }
 },
 "nbformat": 4,
 "nbformat_minor": 2
}
